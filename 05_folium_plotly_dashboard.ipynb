{
 "cells": [
  {
   "cell_type": "markdown",
   "metadata": {},
   "source": [
    "# 05 - Folium and Plotly Dashboard\n",
    "In this notebook, we create interactive visualizations using Folium and Plotly."
   ]
  },
  {
   "cell_type": "code",
   "execution_count": null,
   "metadata": {},
   "outputs": [],
   "source": [
    "import pandas as pd\n",
    "import folium\n",
    "import plotly.express as px"
   ]
  },
  {
   "cell_type": "code",
   "execution_count": null,
   "metadata": {},
   "outputs": [],
   "source": [
    "df = pd.read_csv('datasets/spacex_launch_data.csv')\n",
    "df.dropna(subset=['Lat', 'Long'], inplace=True)"
   ]
  },
  {
   "cell_type": "markdown",
   "metadata": {},
   "source": [
    "## Folium Map - Launch Locations"
   ]
  },
  {
   "cell_type": "code",
   "execution_count": null,
   "metadata": {},
   "outputs": [],
   "source": [
    "launch_map = folium.Map(location=[28.5, -80.6], zoom_start=4)\n",
    "for i, row in df.iterrows():\n",
    "    folium.Marker([row['Lat'], row['Long']],\n",
    "                  popup=f\\\"{row['Launch Site']} ({row['Mission Outcome']})\\\").add_to(launch_map)\n",
    "launch_map.save('launch_map.html')"
   ]
  },
  {
   "cell_type": "markdown",
   "metadata": {},
   "source": [
    "## Plotly Chart - Payload vs. Outcome by Orbit"
   ]
  },
  {
   "cell_type": "code",
   "execution_count": null,
   "metadata": {},
   "outputs": [],
   "source": [
    "fig = px.scatter(df,\n",
    "                 x='Payload Mass (kg)',\n",
    "                 y='Mission Outcome',\n",
    "                 color='Orbit',\n",
    "                 title='Payload vs. Outcome by Orbit')\n",
    "fig.write_html('payload_vs_outcome_plotly.html')\n",
    "fig.show()"
   ]
  }
 ],
 "metadata": {
  "kernelspec": {
   "display_name": "Python 3",
   "language": "python",
   "name": "python3"
  },
  "language_info": {
   "name": "python",
   "version": "3.9"
  }
 },
 "nbformat": 4,
 "nbformat_minor": 5
}
